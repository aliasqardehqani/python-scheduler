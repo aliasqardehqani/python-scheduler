{
 "cells": [
  {
   "cell_type": "code",
   "execution_count": 1,
   "metadata": {},
   "outputs": [],
   "source": [
    "import sched\n",
    "import time\n",
    "from datetime import datetime"
   ]
  },
  {
   "cell_type": "code",
   "execution_count": 3,
   "metadata": {},
   "outputs": [],
   "source": [
    "def schedule_task(date, start_time, end_time):\n",
    "    s = sched.scheduler(time.time, time.sleep)\n",
    "    datetime_format = \"%Y-%m-%d %H:%M:%S\"\n",
    "    start_datetime = datetime.strptime(f\"{date} {start_time}\", datetime_format)\n",
    "    end_datetime = datetime.strptime(f\"{date} {end_time}\", datetime_format)\n",
    "    start_timestamp = time.mktime(start_datetime.timetuple())\n",
    "    end_timestamp = time.mktime(end_datetime.timetuple())\n",
    "    \n",
    "    \n",
    "    s.enterabs(start_timestamp, 1, print(\"ON\"), ())\n",
    "    s.enterabs(end_timestamp, 2, print(\"OFF\"), ())\n",
    "\n",
    "    s.run()\n"
   ]
  },
  {
   "cell_type": "code",
   "execution_count": 5,
   "metadata": {},
   "outputs": [
    {
     "name": "stdout",
     "output_type": "stream",
     "text": [
      "ON\n",
      "OFF\n"
     ]
    },
    {
     "ename": "TypeError",
     "evalue": "'NoneType' object is not callable",
     "output_type": "error",
     "traceback": [
      "\u001b[0;31m---------------------------------------------------------------------------\u001b[0m",
      "\u001b[0;31mTypeError\u001b[0m                                 Traceback (most recent call last)",
      "Cell \u001b[0;32mIn[5], line 6\u001b[0m\n\u001b[1;32m      3\u001b[0m end_time \u001b[39m=\u001b[39m \u001b[39m\"\u001b[39m\u001b[39m12:00:00\u001b[39m\u001b[39m\"\u001b[39m\n\u001b[1;32m      5\u001b[0m \u001b[39m# Schedule tasks\u001b[39;00m\n\u001b[0;32m----> 6\u001b[0m schedule_task(date, start_time, end_time)\n",
      "Cell \u001b[0;32mIn[3], line 14\u001b[0m, in \u001b[0;36mschedule_task\u001b[0;34m(date, start_time, end_time)\u001b[0m\n\u001b[1;32m     11\u001b[0m s\u001b[39m.\u001b[39menterabs(end_timestamp, \u001b[39m2\u001b[39m, \u001b[39mprint\u001b[39m(\u001b[39m\"\u001b[39m\u001b[39mOFF\u001b[39m\u001b[39m\"\u001b[39m), ())\n\u001b[1;32m     13\u001b[0m \u001b[39m# Run the scheduler\u001b[39;00m\n\u001b[0;32m---> 14\u001b[0m s\u001b[39m.\u001b[39;49mrun()\n",
      "File \u001b[0;32m/usr/lib/python3.10/sched.py:151\u001b[0m, in \u001b[0;36mscheduler.run\u001b[0;34m(self, blocking)\u001b[0m\n\u001b[1;32m    149\u001b[0m     delayfunc(time \u001b[39m-\u001b[39m now)\n\u001b[1;32m    150\u001b[0m \u001b[39melse\u001b[39;00m:\n\u001b[0;32m--> 151\u001b[0m     action(\u001b[39m*\u001b[39;49margument, \u001b[39m*\u001b[39;49m\u001b[39m*\u001b[39;49mkwargs)\n\u001b[1;32m    152\u001b[0m     delayfunc(\u001b[39m0\u001b[39m)\n",
      "\u001b[0;31mTypeError\u001b[0m: 'NoneType' object is not callable"
     ]
    }
   ],
   "source": [
    "date = \"2024-01-02\"\n",
    "start_time = \"10:00:00\"\n",
    "end_time = \"12:00:00\"\n",
    "\n",
    "# Schedule tasks\n",
    "schedule_task(date, start_time, end_time)"
   ]
  },
  {
   "cell_type": "code",
   "execution_count": null,
   "metadata": {},
   "outputs": [],
   "source": []
  }
 ],
 "metadata": {
  "kernelspec": {
   "display_name": "Python 3",
   "language": "python",
   "name": "python3"
  },
  "language_info": {
   "codemirror_mode": {
    "name": "ipython",
    "version": 3
   },
   "file_extension": ".py",
   "mimetype": "text/x-python",
   "name": "python",
   "nbconvert_exporter": "python",
   "pygments_lexer": "ipython3",
   "version": "3.10.12"
  },
  "orig_nbformat": 4,
  "vscode": {
   "interpreter": {
    "hash": "916dbcbb3f70747c44a77c7bcd40155683ae19c65e1c03b4aa3499c5328201f1"
   }
  }
 },
 "nbformat": 4,
 "nbformat_minor": 2
}
